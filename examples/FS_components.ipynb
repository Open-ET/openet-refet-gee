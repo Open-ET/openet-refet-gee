{
 "cells": [
  {
   "cell_type": "markdown",
   "metadata": {},
   "source": [
    "# FS ETo Components (FS1 and FS2) Example"
   ]
  },
  {
   "cell_type": "code",
   "execution_count": 54,
   "metadata": {},
   "outputs": [],
   "source": [
    "\n",
    "import ee\n",
    "import openet.refetgee\n",
    "import openet.refetgee.units as units\n",
    "\n",
    "ee.Initialize()\n"
   ]
  },
  {
   "cell_type": "markdown",
   "metadata": {},
   "source": [
    "### Load GRIDMET for a single date"
   ]
  },
  {
   "cell_type": "code",
   "execution_count": 55,
   "metadata": {},
   "outputs": [],
   "source": [
    "gridmet_coll = ee.ImageCollection('IDAHO_EPSCOR/GRIDMET')\\\n",
    "    .filterDate('2019-04-01', '2019-04-02')\n",
    "    \n",
    "gridmet_img = ee.Image(ee.ImageCollection(gridmet_coll.first()))\n",
    "gridmet_img = ee.Image('IDAHO_EPSCOR/GRIDMET/20190801')"
   ]
  },
  {
   "cell_type": "markdown",
   "metadata": {},
   "source": [
    "### Ancillary data and test point"
   ]
  },
  {
   "cell_type": "code",
   "execution_count": 56,
   "metadata": {},
   "outputs": [],
   "source": [
    "test_pnt = ee.Geometry.Point(-119.01, 39.01);\n",
    "\n",
    "# Project latitude array to match GRIDMET elevation grid exactly\n",
    "elev_img = ee.Image(\"projects/climate-engine/gridmet/elevation\")\n",
    "lat_img = ee.Image.pixelLonLat().select('latitude')\\\n",
    "    .reproject('EPSG:4326', elev_img.projection().getInfo()['transform'])\n",
    "    \n",
    "# Set the output crs and crsTransform to match the GRIDMET images\n",
    "crs = gridmet_img.projection().getInfo()['wkt']\n",
    "geo = gridmet_img.projection().getInfo()['transform']"
   ]
  },
  {
   "cell_type": "markdown",
   "metadata": {},
   "source": [
    "### Precomputed ETo"
   ]
  },
  {
   "cell_type": "code",
   "execution_count": 57,
   "metadata": {},
   "outputs": [
    {
     "name": "stdout",
     "output_type": "stream",
     "text": [
      "7.099999904632568\n"
     ]
    }
   ],
   "source": [
    "eto = gridmet_img.select('eto').reduceRegion(\n",
    "    ee.Reducer.first(), test_pnt, crs=crs, crsTransform=geo)\n",
    "print(eto.getInfo()['eto'])"
   ]
  },
  {
   "cell_type": "markdown",
   "metadata": {},
   "source": [
    "### Compute FS1 for a single image"
   ]
  },
  {
   "cell_type": "code",
   "execution_count": 58,
   "metadata": {},
   "outputs": [
    {
     "name": "stdout",
     "output_type": "stream",
     "text": [
      "3.5710874773859875\n"
     ]
    }
   ],
   "source": [
    "print(openet.refetgee.Daily.gridmet(gridmet_img, elev=elev_img, lat=lat_img).eto_fs1\\\n",
    "      .reduceRegion(ee.Reducer.first(), test_pnt, crs=crs, crsTransform=geo)\\\n",
    "      .getInfo()['eto_fs1'])"
   ]
  },
  {
   "cell_type": "markdown",
   "metadata": {},
   "source": [
    "### Compute FS2 for a single image"
   ]
  },
  {
   "cell_type": "code",
   "execution_count": 59,
   "metadata": {},
   "outputs": [
    {
     "name": "stdout",
     "output_type": "stream",
     "text": [
      "3.5242705617140135\n"
     ]
    }
   ],
   "source": [
    "print(openet.refetgee.Daily.gridmet(gridmet_img, elev=elev_img, lat=lat_img).eto_fs2\\\n",
    "      .reduceRegion(ee.Reducer.first(), test_pnt, crs=crs, crsTransform=geo)\\\n",
    "      .getInfo()['eto_fs2'])"
   ]
  },
  {
   "cell_type": "markdown",
   "metadata": {},
   "source": [
    "### Compute ETo using FS components (FS1 + FS2)"
   ]
  },
  {
   "cell_type": "code",
   "execution_count": 60,
   "metadata": {},
   "outputs": [
    {
     "name": "stdout",
     "output_type": "stream",
     "text": [
      "7.095358039100001\n"
     ]
    }
   ],
   "source": [
    "fs1 = openet.refetgee.Daily.gridmet(gridmet_img, elev=elev_img, lat=lat_img).eto_fs1\\\n",
    "      .reduceRegion(ee.Reducer.first(), test_pnt, crs=crs, crsTransform=geo)\\\n",
    "      .getInfo()['eto_fs1']\n",
    "\n",
    "fs2 = openet.refetgee.Daily.gridmet(gridmet_img, elev=elev_img, lat=lat_img).eto_fs2\\\n",
    "      .reduceRegion(ee.Reducer.first(), test_pnt, crs=crs, crsTransform=geo)\\\n",
    "      .getInfo()['eto_fs2']\n",
    "\n",
    "eto = fs1+fs2\n",
    "print(eto)"
   ]
  }
 ],
 "metadata": {
  "kernelspec": {
   "display_name": "Python 3",
   "language": "python",
   "name": "python3"
  },
  "language_info": {
   "codemirror_mode": {
    "name": "ipython",
    "version": 3
   },
   "file_extension": ".py",
   "mimetype": "text/x-python",
   "name": "python",
   "nbconvert_exporter": "python",
   "pygments_lexer": "ipython3",
   "version": "3.7.6"
  }
 },
 "nbformat": 4,
 "nbformat_minor": 4
}
