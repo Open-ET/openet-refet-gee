{
 "cells": [
  {
   "cell_type": "markdown",
   "metadata": {},
   "source": [
    "# Comparison of Reference ET module calculations using MACA"
   ]
  },
  {
   "cell_type": "code",
   "execution_count": 1,
   "metadata": {},
   "outputs": [
    {
     "name": "stdout",
     "output_type": "stream",
     "text": [
      "\n",
      "RefET-GEE ETo: 0.8431504533571522 mm\n",
      "RefET ETo:     0.8428548672306315 mm\n",
      "\n",
      "RefET-GEE ETr: 1.220940784044473 mm\n",
      "RefET ETr:     1.2206525923325835 mm\n"
     ]
    }
   ],
   "source": [
    "import math\n",
    "\n",
    "import ee\n",
    "import refet\n",
    "\n",
    "import refetgee.daily\n",
    "\n",
    "\n",
    "ee.Initialize()\n",
    "\n",
    "# random image from collection\n",
    "maca_img = ee.ImageCollection('IDAHO_EPSCOR/MACAv2_METDATA')\\\n",
    "    .filterMetadata('ensemble', 'equals', \"r1i1p1\")\\\n",
    "    .filterMetadata('model', 'equals', \"BNU-ESM\").first()\n",
    "\n",
    "# Set the output crs and crsTransform to match the maca image\n",
    "crs = maca_img.projection().getInfo()['crs']\n",
    "geo = maca_img.projection().getInfo()['transform']\n",
    "\n",
    "# test point for reducer\n",
    "lat = 39.52\n",
    "lon = -119.30\n",
    "\n",
    "test_pnt = ee.Geometry.Point(lon, lat)\n",
    "\n",
    "# gee_refet eto\n",
    "gee_eto = refetgee.daily.Daily.maca(maca_img).eto\\\n",
    "    .rename(['eto'])\\\n",
    "    .reduceRegion(ee.Reducer.mean(), test_pnt, crs=crs, crsTransform=geo)\\\n",
    "    .getInfo()['eto']\n",
    "\n",
    "# gee_refet etr\n",
    "gee_etr = refetgee.daily.Daily.maca(maca_img).etr\\\n",
    "    .rename(['etr'])\\\n",
    "    .reduceRegion(ee.Reducer.mean(), test_pnt, crs=crs, crsTransform=geo)\\\n",
    "    .getInfo()['etr']\n",
    "\n",
    "# get point data for RefET calc/comparison\n",
    "pt_data = maca_img.reduceRegion(ee.Reducer.mean(), test_pnt, crs=crs,\n",
    "                                crsTransform=geo).getInfo()\n",
    "# image doy\n",
    "doy = ee.Number.parse(maca_img.date().format(\"dd\")).getInfo()\n",
    "\n",
    "# elevation pt extraction (gridmet elevation asset)\n",
    "elev_img = ee.Image('projects/earthengine-legacy/assets/'\n",
    "                    'projects/climate-engine/gridmet/elevation')\n",
    "elev_crs = elev_img.projection().getInfo()['crs']\n",
    "elev_geo = elev_img.projection().getInfo()['transform']\n",
    "elev_pt = elev_img.reduceRegion(ee.Reducer.mean(), test_pnt, crs=elev_crs,\n",
    "                                crsTransform=elev_geo).getInfo()\n",
    "\n",
    "# gridcell lat from elevation asset\n",
    "lat_img =ee.Image('projects/earthengine-legacy/assets/'\n",
    "                  'projects/climate-engine/gridmet/elevation') \\\n",
    "    .multiply(0).add(ee.Image.pixelLonLat().select('latitude'))\n",
    "cell_lat = lat_img.reduceRegion(ee.Reducer.mean(), test_pnt, crs=elev_crs,\n",
    "                                crsTransform=elev_geo).getInfo()['b1']\n",
    "\n",
    "# air pressure from gridmet elevation using refet module\n",
    "pair_kpa = refet.calcs._air_pressure(elev_pt['b1'], method='asce')\n",
    "# actual vapor pressure (kg/kg) using refet module\n",
    "ea_kpa = refet.calcs._actual_vapor_pressure(pt_data['huss'], pair_kpa)\n",
    "\n",
    "# resultant wind speed\n",
    "windspeed = math.sqrt(pt_data['uas']**2 + pt_data['vas']**2)\n",
    "\n",
    "# refet etr calc\n",
    "etr = refet.Daily(\n",
    "    tmin=pt_data['tasmin'], tmax=pt_data['tasmax'], ea=ea_kpa,\n",
    "    rs=pt_data['rsds']*0.0864,\n",
    "    uz=windspeed, zw=10, elev=elev_pt['b1'],\n",
    "    lat=cell_lat, doy=doy, method='asce',\n",
    "    input_units={'tmin': 'K', 'tmax': 'K', 'uz': 'm/s',\n",
    "                 'lat': 'deg', 'ea': 'kpa', 'rs': 'mj m-2 day-1'}\n",
    "    ).etr\n",
    "\n",
    "# refet eto calc\n",
    "eto = refet.Daily(\n",
    "    tmin=pt_data['tasmin'], tmax=pt_data['tasmax'], ea=ea_kpa,\n",
    "    rs=pt_data['rsds']*0.0864,\n",
    "    uz=windspeed, zw=10, elev=elev_pt['b1'],\n",
    "    lat=cell_lat, doy=doy, method='asce',\n",
    "    input_units={'tmin': 'K', 'tmax': 'K', 'uz': 'm/s',\n",
    "                 'lat': 'deg', 'ea': 'kpa', 'rs': 'mj m-2 day-1'}\n",
    "    ).eto\n",
    "\n",
    "# Compare output\n",
    "print('\\nRefET-GEE ETo: {} mm'.format(gee_eto))\n",
    "print('RefET ETo:     {} mm'.format(float(eto)))\n",
    "print('\\nRefET-GEE ETr: {} mm'.format(gee_etr))\n",
    "print('RefET ETr:     {} mm'.format(float(etr)))\n"
   ]
  },
  {
   "cell_type": "code",
   "execution_count": null,
   "metadata": {},
   "outputs": [],
   "source": []
  }
 ],
 "metadata": {
  "kernelspec": {
   "display_name": "Python 3",
   "language": "python",
   "name": "python3"
  },
  "language_info": {
   "codemirror_mode": {
    "name": "ipython",
    "version": 3
   },
   "file_extension": ".py",
   "mimetype": "text/x-python",
   "name": "python",
   "nbconvert_exporter": "python",
   "pygments_lexer": "ipython3",
   "version": "3.6.10"
  },
  "pycharm": {
   "stem_cell": {
    "cell_type": "raw",
    "source": [],
    "metadata": {
     "collapsed": false
    }
   }
  }
 },
 "nbformat": 4,
 "nbformat_minor": 4
}