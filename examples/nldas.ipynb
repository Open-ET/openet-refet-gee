{
 "cells": [
  {
   "cell_type": "markdown",
   "metadata": {},
   "source": [
    "# NLDAS example\n",
    "\n",
    "The ETo/ETr calculation for recent NLDAS images have been updated to follow the equations in ASCE 2005.\n",
    "\n",
    "Test that the precomputed ETr in the collection matches wih the ETr generated using the eerefet module. "
   ]
  },
  {
   "cell_type": "code",
   "execution_count": 1,
   "metadata": {},
   "outputs": [],
   "source": [
    "import ee\n",
    "import openet.refetgee\n",
    "\n",
    "ee.Initialize()"
   ]
  },
  {
   "cell_type": "markdown",
   "metadata": {},
   "source": [
    "#### Load NLDAS for a single date"
   ]
  },
  {
   "cell_type": "code",
   "execution_count": 2,
   "metadata": {},
   "outputs": [],
   "source": [
    "input_coll = ee.ImageCollection('NASA/NLDAS/FORA0125_H002')\\\n",
    "    .filterDate('2018-04-01', '2018-04-02')\n",
    "    \n",
    "# input_img = ee.Image(ee.ImageCollection(gridmet_coll.first()))\n",
    "input_img = ee.Image('NASA/NLDAS/FORA0125_H002/A20180401_1800')"
   ]
  },
  {
   "cell_type": "markdown",
   "metadata": {},
   "source": [
    "#### Ancillary data and test point"
   ]
  },
  {
   "cell_type": "code",
   "execution_count": 3,
   "metadata": {},
   "outputs": [],
   "source": [
    "test_pnt = ee.Geometry.Point(-119.01, 39.01);\n",
    "\n",
    "# Project latitude array to match source elevation grid exactly\n",
    "elev_img = ee.Image(\"projects/eddi-noaa/nldas/elevation\")\n",
    "lat_img = ee.Image.pixelLonLat().select('latitude')\\\n",
    "    .reproject('EPSG:4326', elev_img.projection().getInfo()['transform'])\n",
    "    \n",
    "# Set the output crs and crsTransform to match the source images\n",
    "# crs = input_img.projection().getInfo()['wkt']\n",
    "crs = input_img.projection().getInfo()['crs']\n",
    "geo = input_img.projection().getInfo()['transform']"
   ]
  },
  {
   "cell_type": "markdown",
   "metadata": {},
   "source": [
    "#### Compute daily ETr from the aggregated hourly inputs"
   ]
  },
  {
   "cell_type": "code",
   "execution_count": 4,
   "metadata": {},
   "outputs": [
    {
     "name": "stdout",
     "output_type": "stream",
     "text": [
      "7.774248853791551\n"
     ]
    }
   ],
   "source": [
    "print(openet.refetgee.Daily.nldas(input_coll, elev=elev_img, lat=lat_img).etr\\\n",
    "      .reduceRegion(ee.Reducer.first(), test_pnt, crs=crs, crsTransform=geo)\\\n",
    "      .getInfo()['etr'])"
   ]
  },
  {
   "cell_type": "markdown",
   "metadata": {},
   "source": [
    "#### Compute daily ETr as the sum of the hourly ETr"
   ]
  },
  {
   "cell_type": "code",
   "execution_count": 5,
   "metadata": {},
   "outputs": [
    {
     "name": "stdout",
     "output_type": "stream",
     "text": [
      "7.217448876991929\n"
     ]
    }
   ],
   "source": [
    "def hourly_etr(img):\n",
    "    return ee.Image(openet.refetgee.Hourly.nldas(img, elev=elev_img, lat=lat_img).etr)\\\n",
    "        .copyProperties(img, ['system:time_start'])\n",
    "etr = ee.Image(ee.ImageCollection(input_coll.map(hourly_etr)).sum())\\\n",
    "    .reduceRegion(ee.Reducer.first(), test_pnt, crs=crs, crsTransform=geo)\n",
    "print(etr.getInfo()['etr'])"
   ]
  }
 ],
 "metadata": {
  "kernelspec": {
   "display_name": "Python 3",
   "language": "python",
   "name": "python3"
  },
  "language_info": {
   "codemirror_mode": {
    "name": "ipython",
    "version": 3
   },
   "file_extension": ".py",
   "mimetype": "text/x-python",
   "name": "python",
   "nbconvert_exporter": "python",
   "pygments_lexer": "ipython3",
   "version": "3.7.5"
  },
  "pycharm": {
   "stem_cell": {
    "cell_type": "raw",
    "metadata": {
     "collapsed": false
    },
    "source": []
   }
  }
 },
 "nbformat": 4,
 "nbformat_minor": 4
}
