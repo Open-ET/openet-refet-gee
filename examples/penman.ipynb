{
 "cells": [
  {
   "cell_type": "markdown",
   "metadata": {},
   "source": [
    "# Penman Example (ETp)"
   ]
  },
  {
   "cell_type": "code",
   "execution_count": 17,
   "metadata": {},
   "outputs": [],
   "source": [
    "\n",
    "import ee\n",
    "import openet.refetgee\n",
    "\n",
    "ee.Initialize()\n"
   ]
  },
  {
   "cell_type": "markdown",
   "metadata": {},
   "source": [
    "### Load GRIDMET for a single date"
   ]
  },
  {
   "cell_type": "code",
   "execution_count": 18,
   "metadata": {},
   "outputs": [],
   "source": [
    "gridmet_coll = ee.ImageCollection('IDAHO_EPSCOR/GRIDMET')\\\n",
    "    .filterDate('2006-08-13', '2006-08-14')\n",
    "    \n",
    "gridmet_img = ee.Image(ee.ImageCollection(gridmet_coll.first()))\n",
    "gridmet_img = ee.Image('IDAHO_EPSCOR/GRIDMET/20060813')"
   ]
  },
  {
   "cell_type": "markdown",
   "metadata": {},
   "source": [
    "### Ancillary data and test point"
   ]
  },
  {
   "cell_type": "code",
   "execution_count": 19,
   "metadata": {},
   "outputs": [],
   "source": [
    "test_pnt = ee.Geometry.Point(-119.01, 39.01);\n",
    "\n",
    "# Project latitude array to match GRIDMET elevation grid exactly\n",
    "elev_img = ee.Image(\"projects/climate-engine/gridmet/elevation\")\n",
    "lat_img = ee.Image.pixelLonLat().select('latitude')\\\n",
    "    .reproject('EPSG:4326', elev_img.projection().getInfo()['transform'])\n",
    "    \n",
    "# Set the output crs and crsTransform to match the GRIDMET images\n",
    "crs = gridmet_img.projection().getInfo()['wkt']\n",
    "geo = gridmet_img.projection().getInfo()['transform']"
   ]
  },
  {
   "cell_type": "markdown",
   "metadata": {},
   "source": [
    "### Precomputed ETr"
   ]
  },
  {
   "cell_type": "code",
   "execution_count": 20,
   "metadata": {},
   "outputs": [
    {
     "name": "stdout",
     "output_type": "stream",
     "text": [
      "9.670740127563477\n"
     ]
    }
   ],
   "source": [
    "etr = gridmet_img.select('etr').reduceRegion(\n",
    "    ee.Reducer.first(), test_pnt, crs=crs, crsTransform=geo)\n",
    "print(etr.getInfo()['etr'])"
   ]
  },
  {
   "cell_type": "markdown",
   "metadata": {},
   "source": [
    "### Precomputed ETo"
   ]
  },
  {
   "cell_type": "code",
   "execution_count": 21,
   "metadata": {},
   "outputs": [
    {
     "name": "stdout",
     "output_type": "stream",
     "text": [
      "6.886107921600342\n"
     ]
    }
   ],
   "source": [
    "eto = gridmet_img.select('eto').reduceRegion(\n",
    "    ee.Reducer.first(), test_pnt, crs=crs, crsTransform=geo)\n",
    "print(eto.getInfo()['eto'])"
   ]
  },
  {
   "cell_type": "markdown",
   "metadata": {},
   "source": [
    "### Compute ETp for a single image"
   ]
  },
  {
   "cell_type": "code",
   "execution_count": 22,
   "metadata": {},
   "outputs": [
    {
     "name": "stdout",
     "output_type": "stream",
     "text": [
      "7.623743804704581\n"
     ]
    }
   ],
   "source": [
    "print(openet.refetgee.Daily.gridmet(gridmet_img, elev=elev_img, lat=lat_img).etp\\\n",
    "      .reduceRegion(ee.Reducer.first(), test_pnt, crs=crs, crsTransform=geo)\\\n",
    "      .getInfo()['etp'])"
   ]
  },
  {
   "cell_type": "markdown",
   "metadata": {},
   "source": [
    "### Compute ETp for a collection in a mapped function"
   ]
  },
  {
   "cell_type": "code",
   "execution_count": 23,
   "metadata": {},
   "outputs": [
    {
     "name": "stdout",
     "output_type": "stream",
     "text": [
      "7.623743804704581\n"
     ]
    }
   ],
   "source": [
    "def gridmet_etp(img):\n",
    "    return ee.Image(openet.refetgee.Daily.gridmet(img, elev=elev_img, lat=lat_img).etp)\\\n",
    "        .copyProperties(img, ['system:time_start'])\n",
    "etp = ee.Image(ee.ImageCollection(gridmet_coll.map(gridmet_etp)).first())\\\n",
    "    .reduceRegion(ee.Reducer.first(), test_pnt, crs=crs, crsTransform=geo)\n",
    "print(etp.getInfo()['etp'])"
   ]
  }
 ],
 "metadata": {
  "kernelspec": {
   "display_name": "Python 3",
   "language": "python",
   "name": "python3"
  },
  "language_info": {
   "codemirror_mode": {
    "name": "ipython",
    "version": 3
   },
   "file_extension": ".py",
   "mimetype": "text/x-python",
   "name": "python",
   "nbconvert_exporter": "python",
   "pygments_lexer": "ipython3",
   "version": "3.7.6"
  }
 },
 "nbformat": 4,
 "nbformat_minor": 4
}
