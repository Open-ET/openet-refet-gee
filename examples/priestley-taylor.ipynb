{
 "cells": [
  {
   "cell_type": "code",
   "execution_count": 1,
   "metadata": {},
   "outputs": [
    {
     "ename": "ModuleNotFoundError",
     "evalue": "No module named 'openet'",
     "output_type": "error",
     "traceback": [
      "\u001b[1;31m---------------------------------------------------------------------------\u001b[0m",
      "\u001b[1;31mModuleNotFoundError\u001b[0m                       Traceback (most recent call last)",
      "\u001b[1;32m<ipython-input-1-71e732004356>\u001b[0m in \u001b[0;36m<module>\u001b[1;34m\u001b[0m\n\u001b[0;32m      1\u001b[0m \u001b[1;32mimport\u001b[0m \u001b[0mee\u001b[0m\u001b[1;33m\u001b[0m\u001b[1;33m\u001b[0m\u001b[0m\n\u001b[1;32m----> 2\u001b[1;33m \u001b[1;32mimport\u001b[0m \u001b[0mopenet\u001b[0m\u001b[1;33m.\u001b[0m\u001b[0mrefetgee\u001b[0m\u001b[1;33m\u001b[0m\u001b[1;33m\u001b[0m\u001b[0m\n\u001b[0m\u001b[0;32m      3\u001b[0m \u001b[1;33m\u001b[0m\u001b[0m\n\u001b[0;32m      4\u001b[0m \u001b[0mee\u001b[0m\u001b[1;33m.\u001b[0m\u001b[0mInitialize\u001b[0m\u001b[1;33m(\u001b[0m\u001b[1;33m)\u001b[0m\u001b[1;33m\u001b[0m\u001b[1;33m\u001b[0m\u001b[0m\n",
      "\u001b[1;31mModuleNotFoundError\u001b[0m: No module named 'openet'"
     ]
    }
   ],
   "source": [
    "import ee\n",
    "import openet.refetgee\n",
    "\n",
    "ee.Initialize()"
   ]
  },
  {
   "cell_type": "code",
   "execution_count": null,
   "metadata": {},
   "outputs": [],
   "source": [
    "gridmet_coll = ee.ImageCollection('IDAHO_EPSCOR/GRIDMET')\\\n",
    "    .filterDate('2018-04-01', '2018-04-02')\n",
    "    \n",
    "# gridmet_img = ee.Image(ee.ImageCollection(gridmet_coll.first()))\n",
    "gridmet_img = ee.Image('IDAHO_EPSCOR/GRIDMET/20180401')"
   ]
  },
  {
   "cell_type": "code",
   "execution_count": null,
   "metadata": {},
   "outputs": [],
   "source": [
    "test_pnt = ee.Geometry.Point(-119.01, 39.01);\n",
    "\n",
    "# Project latitude array to match GRIDMET elevation grid exactly\n",
    "elev_img = ee.Image(\"projects/climate-engine/gridmet/elevation\")\n",
    "lat_img = ee.Image.pixelLonLat().select('latitude')\\\n",
    "    .reproject('EPSG:4326', elev_img.projection().getInfo()['transform'])\n",
    "    \n",
    "# Set the output crs and crsTransform to match the GRIDMET images\n",
    "crs = gridmet_img.projection().getInfo()['wkt']\n",
    "geo = gridmet_img.projection().getInfo()['transform']"
   ]
  },
  {
   "cell_type": "code",
   "execution_count": null,
   "metadata": {},
   "outputs": [],
   "source": [
    "etr = gridmet_img.select('etr').reduceRegion(\n",
    "    ee.Reducer.first(), test_pnt, crs=crs, crsTransform=geo)\n",
    "print(etr.getInfo()['etr'])"
   ]
  },
  {
   "cell_type": "code",
   "execution_count": null,
   "metadata": {},
   "outputs": [],
   "source": [
    "def gridmet_etw(img):\n",
    "    return ee.Image(openet.refetgee.Daily.gridmet(img, elev=elev_img, lat=lat_img).etw)\\\n",
    "        .copyProperties(img, ['system:time_start'])\n",
    "etw = ee.Image(ee.ImageCollection(gridmet_coll.map(gridmet_etw)).first())\\\n",
    "    .reduceRegion(ee.Reducer.first(), test_pnt, crs=crs, crsTransform=geo)\n",
    "print(etr.getInfo()['etw'])"
   ]
  }
 ],
 "metadata": {
  "kernelspec": {
   "display_name": "Python 3",
   "language": "python",
   "name": "python3"
  },
  "language_info": {
   "codemirror_mode": {
    "name": "ipython",
    "version": 3
   },
   "file_extension": ".py",
   "mimetype": "text/x-python",
   "name": "python",
   "nbconvert_exporter": "python",
   "pygments_lexer": "ipython3",
   "version": "3.7.6"
  }
 },
 "nbformat": 4,
 "nbformat_minor": 4
}
