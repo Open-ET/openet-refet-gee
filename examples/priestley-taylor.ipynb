{
 "cells": [
  {
   "cell_type": "markdown",
   "metadata": {},
   "source": [
    "# Priestley-Taylor (etw) Example"
   ]
  },
  {
   "cell_type": "code",
   "execution_count": 16,
   "metadata": {},
   "outputs": [],
   "source": [
    "\n",
    "import ee\n",
    "import openet.refetgee\n",
    "\n",
    "ee.Initialize()\n"
   ]
  },
  {
   "cell_type": "markdown",
   "metadata": {},
   "source": [
    "### Load GRIDMET for a single date"
   ]
  },
  {
   "cell_type": "code",
   "execution_count": 17,
   "metadata": {},
   "outputs": [],
   "source": [
    "gridmet_coll = ee.ImageCollection('IDAHO_EPSCOR/GRIDMET')\\\n",
    "    .filterDate('2018-04-01', '2018-04-02')\n",
    "    \n",
    "gridmet_img = ee.Image(ee.ImageCollection(gridmet_coll.first()))\n",
    "gridmet_img = ee.Image('IDAHO_EPSCOR/GRIDMET/20180401')"
   ]
  },
  {
   "cell_type": "markdown",
   "metadata": {},
   "source": [
    "### Ancillary data and test point"
   ]
  },
  {
   "cell_type": "code",
   "execution_count": 18,
   "metadata": {},
   "outputs": [],
   "source": [
    "test_pnt = ee.Geometry.Point(-119.01, 39.01);\n",
    "\n",
    "# Project latitude array to match GRIDMET elevation grid exactly\n",
    "elev_img = ee.Image(\"projects/climate-engine/gridmet/elevation\")\n",
    "lat_img = ee.Image.pixelLonLat().select('latitude')\\\n",
    "    .reproject('EPSG:4326', elev_img.projection().getInfo()['transform'])\n",
    "    \n",
    "# Set the output crs and crsTransform to match the GRIDMET images\n",
    "crs = gridmet_img.projection().getInfo()['wkt']\n",
    "geo = gridmet_img.projection().getInfo()['transform']"
   ]
  },
  {
   "cell_type": "markdown",
   "metadata": {},
   "source": [
    "### Precomputer ETr"
   ]
  },
  {
   "cell_type": "code",
   "execution_count": 19,
   "metadata": {},
   "outputs": [
    {
     "name": "stdout",
     "output_type": "stream",
     "text": [
      "7.800000190734863\n"
     ]
    }
   ],
   "source": [
    "etr = gridmet_img.select('etr').reduceRegion(\n",
    "    ee.Reducer.first(), test_pnt, crs=crs, crsTransform=geo)\n",
    "print(etr.getInfo()['etr'])"
   ]
  },
  {
   "cell_type": "markdown",
   "metadata": {},
   "source": [
    "### Compute ETw for a single image"
   ]
  },
  {
   "cell_type": "code",
   "execution_count": 20,
   "metadata": {},
   "outputs": [
    {
     "name": "stdout",
     "output_type": "stream",
     "text": [
      "3.3535871712894094\n"
     ]
    }
   ],
   "source": [
    "print(openet.refetgee.Daily.gridmet(gridmet_img, elev=elev_img, lat=lat_img).etw\\\n",
    "      .reduceRegion(ee.Reducer.first(), test_pnt, crs=crs, crsTransform=geo)\\\n",
    "      .getInfo()['etw'])"
   ]
  },
  {
   "cell_type": "markdown",
   "metadata": {},
   "source": [
    "### Compute ETw for a collection in a mapped function"
   ]
  },
  {
   "cell_type": "code",
   "execution_count": 21,
   "metadata": {},
   "outputs": [
    {
     "name": "stdout",
     "output_type": "stream",
     "text": [
      "3.3535871712894094\n"
     ]
    }
   ],
   "source": [
    "def gridmet_etw(img):\n",
    "    return ee.Image(openet.refetgee.Daily.gridmet(img, elev=elev_img, lat=lat_img).etw)\\\n",
    "        .copyProperties(img, ['system:time_start'])\n",
    "etw = ee.Image(ee.ImageCollection(gridmet_coll.map(gridmet_etw)).first())\\\n",
    "    .reduceRegion(ee.Reducer.first(), test_pnt, crs=crs, crsTransform=geo)\n",
    "print(etw.getInfo()['etw'])"
   ]
  }
 ],
 "metadata": {
  "kernelspec": {
   "display_name": "Python 3",
   "language": "python",
   "name": "python3"
  },
  "language_info": {
   "codemirror_mode": {
    "name": "ipython",
    "version": 3
   },
   "file_extension": ".py",
   "mimetype": "text/x-python",
   "name": "python",
   "nbconvert_exporter": "python",
   "pygments_lexer": "ipython3",
   "version": "3.7.6"
  }
 },
 "nbformat": 4,
 "nbformat_minor": 4
}
