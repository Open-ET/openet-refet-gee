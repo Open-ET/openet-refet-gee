{
 "cells": [
  {
   "cell_type": "markdown",
   "metadata": {},
   "source": [
    "# RTMA example\n",
    "\n",
    "The ETo/ETr calculation for recent RTMA images have been updated to follow the equations in ASCE 2005.\n",
    "\n",
    "Test that the precomputed ETr in the collection matches wih the ETr generated using the eerefet module. "
   ]
  },
  {
   "cell_type": "code",
   "execution_count": 1,
   "metadata": {},
   "outputs": [],
   "source": [
    "import pprint\n",
    "import ee\n",
    "import openet.refetgee\n",
    "\n",
    "ee.Initialize()"
   ]
  },
  {
   "cell_type": "markdown",
   "metadata": {},
   "source": [
    "#### Load RTMA for a single date"
   ]
  },
  {
   "cell_type": "code",
   "execution_count": 2,
   "metadata": {},
   "outputs": [],
   "source": [
    "# Build date range to match GRIDMET \"day\"\n",
    "start_date = ee.Date.fromYMD(2018, 4, 1).advance(6, 'hour')\n",
    "end_date = start_date.advance(1, 'day')\n",
    "input_coll = ee.ImageCollection('NOAA/NWS/RTMA')\\\n",
    "    .filterDate(start_date, end_date)\n",
    "\n",
    "# input_coll = ee.ImageCollection('NOAA/NWS/RTMA')\\\n",
    "#     .filterDate('2018-04-01', '2018-04-02')\n",
    "    \n",
    "# input_img = ee.Image(ee.ImageCollection(input_coll.first()))\n",
    "input_img = ee.Image('NOAA/NWS/RTMA/2018040118')"
   ]
  },
  {
   "cell_type": "markdown",
   "metadata": {},
   "source": [
    "#### Ancillary data and test point"
   ]
  },
  {
   "cell_type": "code",
   "execution_count": 3,
   "metadata": {},
   "outputs": [],
   "source": [
    "test_pnt = ee.Geometry.Point(-119.01, 39.01);\n",
    "\n",
    "# Project latitude array to match source elevation grid exactly\n",
    "elev_img = ee.Image(\"projects/climate-engine/rtma/elevation\")\n",
    "lat_img = ee.Image.pixelLonLat().select('latitude')\\\n",
    "    .reproject('EPSG:4326', elev_img.projection().getInfo()['transform'])\n",
    "    \n",
    "# Set the output crs and crsTransform to match the source images\n",
    "crs = input_img.projection().getInfo()['wkt']\n",
    "geo = input_img.projection().getInfo()['transform']"
   ]
  },
  {
   "cell_type": "code",
   "execution_count": 4,
   "metadata": {},
   "outputs": [
    {
     "name": "stdout",
     "output_type": "stream",
     "text": [
      "23.4144\n"
     ]
    }
   ],
   "source": [
    "# GRIDMET solar radiation (in MJ m-2 day-1)\n",
    "rs_coll = ee.ImageCollection('IDAHO_EPSCOR/GRIDMET')\\\n",
    "    .filterDate(start_date, end_date)\\\n",
    "    .select(['srad'])\n",
    "rs_img = ee.Image(rs_coll.first()).multiply(0.0864)\n",
    "rs = rs_img.reduceRegion(ee.Reducer.first(), test_pnt, crs=crs, crsTransform=geo).getInfo()['srad']\n",
    "print(rs)\n",
    "# print(rs / 0.0864)"
   ]
  },
  {
   "cell_type": "markdown",
   "metadata": {},
   "source": [
    "#### Compute ETr for a single hour\n",
    "\n",
    "This uses the NLDAS hourly incoming solar radiation"
   ]
  },
  {
   "cell_type": "code",
   "execution_count": 5,
   "metadata": {},
   "outputs": [
    {
     "name": "stdout",
     "output_type": "stream",
     "text": [
      "0.571071156941792\n"
     ]
    }
   ],
   "source": [
    "print(openet.refetgee.Hourly.rtma(input_img, elev=elev_img, lat=lat_img).etr\\\n",
    "      .reduceRegion(ee.Reducer.first(), test_pnt, crs=crs, crsTransform=geo)\\\n",
    "      .getInfo()['etr'])"
   ]
  },
  {
   "cell_type": "markdown",
   "metadata": {},
   "source": [
    "#### Compute daily ETr from the aggregated hourly inputs\n",
    "\n",
    "This uses the GRIDMET daily solar"
   ]
  },
  {
   "cell_type": "code",
   "execution_count": 6,
   "metadata": {},
   "outputs": [
    {
     "name": "stdout",
     "output_type": "stream",
     "text": [
      "6.93926120145355\n"
     ]
    }
   ],
   "source": [
    "print(openet.refetgee.Daily.rtma(input_coll, elev=elev_img, lat=lat_img).etr\\\n",
    "      .reduceRegion(ee.Reducer.first(), test_pnt, crs=crs, crsTransform=geo)\\\n",
    "      .getInfo()['etr'])"
   ]
  },
  {
   "cell_type": "markdown",
   "metadata": {},
   "source": [
    "#### Compute daily ETr as the sum of the hourly ETr\n",
    "\n",
    "This uses the NLDAS hourly solar"
   ]
  },
  {
   "cell_type": "code",
   "execution_count": 7,
   "metadata": {},
   "outputs": [
    {
     "name": "stdout",
     "output_type": "stream",
     "text": [
      "6.391883119555344\n"
     ]
    }
   ],
   "source": [
    "def hourly_etr(img):\n",
    "    return ee.Image(openet.refetgee.Hourly.rtma(img, elev=elev_img, lat=lat_img).etr)\\\n",
    "        .copyProperties(img, ['system:time_start'])\n",
    "etr = ee.Image(ee.ImageCollection(input_coll.map(hourly_etr)).sum())\\\n",
    "    .reduceRegion(ee.Reducer.first(), test_pnt, crs=crs, crsTransform=geo)\n",
    "print(etr.getInfo()['etr'])"
   ]
  },
  {
   "cell_type": "markdown",
   "metadata": {},
   "source": [
    "#### Check that the different \"rs\" parameters all work"
   ]
  },
  {
   "cell_type": "code",
   "execution_count": 8,
   "metadata": {},
   "outputs": [
    {
     "name": "stdout",
     "output_type": "stream",
     "text": [
      "6.93926120145355\n"
     ]
    }
   ],
   "source": [
    "print(openet.refetgee.Daily.rtma(input_coll, rs='GRIDMET', elev=elev_img, lat=lat_img).etr\\\n",
    "      .reduceRegion(ee.Reducer.first(), test_pnt, crs=crs, crsTransform=geo)\\\n",
    "      .getInfo()['etr'])"
   ]
  },
  {
   "cell_type": "code",
   "execution_count": 9,
   "metadata": {},
   "outputs": [
    {
     "name": "stdout",
     "output_type": "stream",
     "text": [
      "6.937925792265972\n"
     ]
    }
   ],
   "source": [
    "print(openet.refetgee.Daily.rtma(input_coll, rs='NLDAS', elev=elev_img, lat=lat_img).etr\\\n",
    "      .reduceRegion(ee.Reducer.first(), test_pnt, crs=crs, crsTransform=geo)\\\n",
    "      .getInfo()['etr'])"
   ]
  },
  {
   "cell_type": "code",
   "execution_count": 10,
   "metadata": {},
   "outputs": [
    {
     "name": "stdout",
     "output_type": "stream",
     "text": [
      "6.93926120145355\n"
     ]
    }
   ],
   "source": [
    "print(openet.refetgee.Daily.rtma(input_coll, rs=rs_img, elev=elev_img, lat=lat_img).etr\\\n",
    "      .reduceRegion(ee.Reducer.first(), test_pnt, crs=crs, crsTransform=geo)\\\n",
    "      .getInfo()['etr'])"
   ]
  },
  {
   "cell_type": "code",
   "execution_count": 11,
   "metadata": {},
   "outputs": [
    {
     "name": "stdout",
     "output_type": "stream",
     "text": [
      "6.93926120145355\n"
     ]
    }
   ],
   "source": [
    "print(openet.refetgee.Daily.rtma(input_coll, rs=rs, elev=elev_img, lat=lat_img).etr\\\n",
    "      .reduceRegion(ee.Reducer.first(), test_pnt, crs=crs, crsTransform=geo)\\\n",
    "      .getInfo()['etr'])"
   ]
  },
  {
   "cell_type": "code",
   "execution_count": 12,
   "metadata": {},
   "outputs": [
    {
     "name": "stdout",
     "output_type": "stream",
     "text": [
      "6.93926120145355\n"
     ]
    }
   ],
   "source": [
    "print(openet.refetgee.Daily.rtma(input_coll, rs=ee.Number(rs), elev=elev_img, lat=lat_img).etr\\\n",
    "      .reduceRegion(ee.Reducer.first(), test_pnt, crs=crs, crsTransform=geo)\\\n",
    "      .getInfo()['etr'])"
   ]
  },
  {
   "cell_type": "code",
   "execution_count": null,
   "metadata": {},
   "outputs": [],
   "source": []
  }
 ],
 "metadata": {
  "kernelspec": {
   "display_name": "Python 3",
   "language": "python",
   "name": "python3"
  },
  "language_info": {
   "codemirror_mode": {
    "name": "ipython",
    "version": 3
   },
   "file_extension": ".py",
   "mimetype": "text/x-python",
   "name": "python",
   "nbconvert_exporter": "python",
   "pygments_lexer": "ipython3",
   "version": "3.6.10"
  },
  "pycharm": {
   "stem_cell": {
    "cell_type": "raw",
    "metadata": {
     "collapsed": false
    },
    "source": []
   }
  }
 },
 "nbformat": 4,
 "nbformat_minor": 4
}
